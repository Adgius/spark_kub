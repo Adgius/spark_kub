{
 "cells": [
  {
   "cell_type": "code",
   "execution_count": 1,
   "id": "1336f224-20b5-47af-a5f6-70f082fbd5f5",
   "metadata": {
    "collapsed": true,
    "jupyter": {
     "outputs_hidden": true
    }
   },
   "outputs": [
    {
     "name": "stderr",
     "output_type": "stream",
     "text": [
      "/usr/local/lib/python3.9/dist-packages/pyspark/bin/load-spark-env.sh: line 68: ps: command not found\n"
     ]
    },
    {
     "name": "stdout",
     "output_type": "stream",
     "text": [
      ":: loading settings :: url = jar:file:/usr/local/lib/python3.9/dist-packages/pyspark/jars/ivy-2.5.1.jar!/org/apache/ivy/core/settings/ivysettings.xml\n"
     ]
    },
    {
     "name": "stderr",
     "output_type": "stream",
     "text": [
      "Ivy Default Cache set to: /root/.ivy2/cache\n",
      "The jars for the packages stored in: /root/.ivy2/jars\n",
      "org.apache.hadoop#hadoop-aws added as a dependency\n",
      "com.amazonaws#aws-java-sdk-bundle added as a dependency\n",
      ":: resolving dependencies :: org.apache.spark#spark-submit-parent-c2abe94c-42f8-44c8-baa4-6c184a415dd6;1.0\n",
      "\tconfs: [default]\n",
      "\tfound org.apache.hadoop#hadoop-aws;3.3.4 in central\n",
      "\tfound com.amazonaws#aws-java-sdk-bundle;1.12.262 in central\n",
      "\tfound org.wildfly.openssl#wildfly-openssl;1.0.7.Final in central\n",
      ":: resolution report :: resolve 137ms :: artifacts dl 5ms\n",
      "\t:: modules in use:\n",
      "\tcom.amazonaws#aws-java-sdk-bundle;1.12.262 from central in [default]\n",
      "\torg.apache.hadoop#hadoop-aws;3.3.4 from central in [default]\n",
      "\torg.wildfly.openssl#wildfly-openssl;1.0.7.Final from central in [default]\n",
      "\t---------------------------------------------------------------------\n",
      "\t|                  |            modules            ||   artifacts   |\n",
      "\t|       conf       | number| search|dwnlded|evicted|| number|dwnlded|\n",
      "\t---------------------------------------------------------------------\n",
      "\t|      default     |   3   |   0   |   0   |   0   ||   3   |   0   |\n",
      "\t---------------------------------------------------------------------\n",
      ":: retrieving :: org.apache.spark#spark-submit-parent-c2abe94c-42f8-44c8-baa4-6c184a415dd6\n",
      "\tconfs: [default]\n",
      "\t0 artifacts copied, 3 already retrieved (0kB/4ms)\n",
      "25/07/14 17:35:14 WARN NativeCodeLoader: Unable to load native-hadoop library for your platform... using builtin-java classes where applicable\n",
      "Setting default log level to \"WARN\".\n",
      "To adjust logging level use sc.setLogLevel(newLevel). For SparkR, use setLogLevel(newLevel).\n"
     ]
    }
   ],
   "source": [
    "from pyspark.sql import SparkSession\n",
    "\n",
    "spark = (SparkSession.builder\n",
    "    .appName(\"S3Example\")\n",
    "    .master(\"spark://spark-master:7077\") \n",
    "    .config(\"spark.jars.packages\",\n",
    "        \"org.apache.hadoop:hadoop-aws:3.3.4,\"\n",
    "        \"com.amazonaws:aws-java-sdk-bundle:1.12.262\"\n",
    "    )\n",
    "    .config('spark.hadoop.fs.s3a.endpoint', \"https://s3.firstvds.ru\") \\\n",
    "    .config('spark.hadoop.fs.s3a.path.style.access', \"true\") \\\n",
    "    .config('spark.hadoop.fs.s3a.aws.credentials.provider', \"org.apache.hadoop.fs.s3a.AnonymousAWSCredentialsProvider\")\n",
    "    .getOrCreate()\n",
    ")"
   ]
  },
  {
   "cell_type": "code",
   "execution_count": 2,
   "id": "c41f1927-dc7b-4bb4-a148-9cf5ee2ee045",
   "metadata": {},
   "outputs": [
    {
     "name": "stderr",
     "output_type": "stream",
     "text": [
      "25/07/14 17:35:22 WARN MetricsConfig: Cannot locate configuration: tried hadoop-metrics2-s3a-file-system.properties,hadoop-metrics2.properties\n",
      "                                                                                "
     ]
    },
    {
     "name": "stdout",
     "output_type": "stream",
     "text": [
      "+-----+----------+--------+----------------+\n",
      "|id   |open_date |city_id |addr_id         |\n",
      "+-----+----------+--------+----------------+\n",
      "|9834 |2018-10-08|GP72KEC1|6ISU2W40Y17MB589|\n",
      "|5055 |2018-02-06|Z59FMEQ9|I05KTQH637WPZC8K|\n",
      "|9427 |2010-01-24|TB0CMTUZ|XXRNP15VBYXVW3QT|\n",
      "|1988 |2010-09-14|WD4QO0XX|AHFOD94400USEGV1|\n",
      "|4880 |2010-03-25|Z59FMEQ9|R0AH5US8NTYL2UA4|\n",
      "|6362 |2012-05-19|8URJWJX3|I8L955X1MOI8D6HC|\n",
      "|3530 |2016-08-16|9J5OG0FU|6AGXB5D9DIWA26V9|\n",
      "|6965 |2018-02-08|XSKNU9FI|DJQP6OY1R84PH38U|\n",
      "|11898|2018-02-21|UWITA6QA|DFH4W1S4KWPTGPTY|\n",
      "|1808 |2013-08-22|4SQ2GPH9|XC9TZ1QJ3CS11Z9K|\n",
      "+-----+----------+--------+----------------+\n",
      "only showing top 10 rows\n",
      "\n"
     ]
    }
   ],
   "source": [
    "# 2. Чтение branches\n",
    "branches_df = spark.read.parquet(\"s3a://store-receipts-prod/branch\")\n",
    "\n",
    "# 3. Показать первые 10 строк\n",
    "branches_df.show(10, truncate=False)\n",
    "\n",
    "spark.stop()"
   ]
  },
  {
   "cell_type": "code",
   "execution_count": null,
   "id": "2672ce3b-6ebe-4bd3-927b-314d6b16a2dc",
   "metadata": {},
   "outputs": [],
   "source": []
  }
 ],
 "metadata": {
  "kernelspec": {
   "display_name": "Python 3 (ipykernel)",
   "language": "python",
   "name": "python3"
  },
  "language_info": {
   "codemirror_mode": {
    "name": "ipython",
    "version": 3
   },
   "file_extension": ".py",
   "mimetype": "text/x-python",
   "name": "python",
   "nbconvert_exporter": "python",
   "pygments_lexer": "ipython3",
   "version": "3.9.2"
  }
 },
 "nbformat": 4,
 "nbformat_minor": 5
}
